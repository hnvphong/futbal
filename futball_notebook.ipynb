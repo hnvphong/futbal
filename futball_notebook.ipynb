{
 "cells": [
  {
   "cell_type": "markdown",
   "id": "89690e69",
   "metadata": {},
   "source": [
    "# Sổ tay lối chơi của đội bóng đá nữ MISIS"
   ]
  },
  {
   "cell_type": "markdown",
   "id": "e84f9849",
   "metadata": {},
   "source": [
    "#### Các vị trí: dự kiến\n",
    "GHI NHỚ SỐ (VỊ TRÍ, không phải số áo) - VAI TRÒ<br>\n",
    "1 người có thể chơi 1/2 vị trí (số lượng người của đội)\n",
    "<br>Số 1 thủ môn: Như Ngọc, Thùy Trang\n",
    "<br>Số 2 bọc lót: Mai Phương, Như Ngọc, Thùy Trang, Nga\n",
    "<br>Số 5 đánh chặn: Thảo, Ngọc Phương, Quyên\n",
    "<br>Số 6 mỏ neo: Ngọc Phương, Bích Ngọc\n",
    "<br>Số 3, 4 vệ tinh: Hoàng Trang, Quyên, Nga, Mai Phương, Bích Ngọc"
   ]
  },
  {
   "cell_type": "markdown",
   "id": "18171b25",
   "metadata": {},
   "source": [
    "#### Mọi tình huống trong các video chiến thuật này đều có thể áp dụng một cách đối xứng (trái-phải). Việc lựa chọn đường chuyền/tấn công/phòng thủ ở bên trái/phải tùy thuộc vào tình huống thực tế."
   ]
  },
  {
   "cell_type": "markdown",
   "id": "b2032398",
   "metadata": {},
   "source": [
    "#### Tình huống GIAO BÓNG:\n",
    "Chú trọng các đường chuyền đầu tiên theo các tình huống trong video chiến thuật này, phần còn lại tùy thuộc vào tình huống thực tế."
   ]
  },
  {
   "cell_type": "code",
   "execution_count": 1,
   "id": "abeaedd4",
   "metadata": {},
   "outputs": [
    {
     "data": {
      "text/html": [
       "<div align=\"center\">\n",
       "<iframe width=\"560\" height=\"315\" src=\"https://www.youtube.com/embed/pX1ySW131to\"</iframe>\n",
       "</div>\n"
      ],
      "text/plain": [
       "<IPython.core.display.HTML object>"
      ]
     },
     "metadata": {},
     "output_type": "display_data"
    }
   ],
   "source": [
    "%%HTML\n",
    "<div align=\"center\">\n",
    "<iframe width=\"560\" height=\"315\" src=\"https://www.youtube.com/embed/pX1ySW131to\"</iframe>\n",
    "</div>"
   ]
  },
  {
   "cell_type": "markdown",
   "id": "6b8da55d",
   "metadata": {},
   "source": [
    "test done?!"
   ]
  }
 ],
 "metadata": {
  "kernelspec": {
   "display_name": "Python 3 (ipykernel)",
   "language": "python",
   "name": "python3"
  },
  "language_info": {
   "codemirror_mode": {
    "name": "ipython",
    "version": 3
   },
   "file_extension": ".py",
   "mimetype": "text/x-python",
   "name": "python",
   "nbconvert_exporter": "python",
   "pygments_lexer": "ipython3",
   "version": "3.11.2"
  }
 },
 "nbformat": 4,
 "nbformat_minor": 5
}
