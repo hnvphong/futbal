{
 "cells": [
  {
   "cell_type": "markdown",
   "id": "89690e69",
   "metadata": {},
   "source": [
    "# Sổ tay lối chơi của đội bóng đá nữ MISIS\n",
    "Để xem số tay thuận lợi -> xoay ngang điện thoại/thiết bị màn hình lớn"
   ]
  },
  {
   "cell_type": "markdown",
   "id": "e84f9849",
   "metadata": {},
   "source": [
    "#### Các vị trí: dự kiến\n",
    "Ghi nhớ (vị trí, không phải số áo) - vai trò\n",
    "- 1 người có thể chơi 1/2 vị trí (số lượng người của đội)\n",
    "- Số 1 thủ môn: Như Ngọc, Thùy Trang\n",
    "- Số 2 bọc lót: Mai Phương, Như Ngọc, Thùy Trang, Nga\n",
    "- Số 5 đánh chặn: Thảo, Ngọc Phương, Quyên\n",
    "- Số 6 mỏ neo: Ngọc Phương, Bích Ngọc\n",
    "- Số 3, 4 vệ tinh: Hoàng Trang, Quyên, Nga, Mai Phương, Bích Ngọc"
   ]
  },
  {
   "cell_type": "markdown",
   "id": "18171b25",
   "metadata": {},
   "source": [
    "#### Mọi tình huống trong các video chiến thuật này đều có thể áp dụng một cách đối xứng (trái-phải). Việc lựa chọn đường chuyền/tấn công/phòng thủ ở bên trái/phải tùy thuộc vào tình huống thực tế."
   ]
  },
  {
   "cell_type": "markdown",
   "id": "6b8da55d",
   "metadata": {},
   "source": [
    "#### Quy tắc phòng thủ:\n",
    "Tên quy tắc kèm chú giải, trong các video hoặc trao đổi khi tập luyện/thi đấu, tôi sẽ chỉ dùng tên quy tắc cho ngắn gọn. Ví dụ: khi tôi hét lên 1 1, đoạt lại, phá bóng, giữ bóng lại..., các cầu thủ sẽ biết cần phải làm gì.\n",
    "- 1 kèm 1: trong trường hợp cầu thủ phòng ngự đội bạn không tham gia tấn công, không cần ở lại phía sân đội bạn\n",
    "- Cướp lại: ai mất bóng phải đuổi tranh chấp lại cho bằng được, nếu bóng đã bị chuyền đi-> vẫn theo kèm đối thủ vừa chuyền đi\n",
    "- Theo người: khi bị đối phương chạy qua mặt, xử lí tương tự cướp lại\n",
    "- Giữ khoảng cách: bóng đã tiến về phần sân nhà -> các cầu thủ tấn công lui về (không đứng đợi phía trên)\n",
    "- Phá bóng: đưa bóng ra xa khung thành đội mình; hết biên dọc (bị đội bạn đá biên); hết biên ngang (bị đội bạn đá phạt góc)\n",
    "- Giữ bóng lại: ai gần với bóng nhất giữa trái bóng lại chờ đồng đội lui về hỗ trợ, không cho đội bạn đá biên/đá phạt góc ngay\n",
    "- Tản ra: không bu hết người vào bóng (chỉ cần 1 người tranh chấp, đồng đội xung quanh chớp thời cơ bóng loạt khỏi vòng tranh chấp)\n",
    "<br>Tình huống:\n",
    "- Khi đoạt được lại bóng -> chuyền đồng đội ở gần (nhìn thấy/nghe tiếng gọi) hoặc phá bóng\n",
    "- Khi đồng đội đoạt được bóng -> các cầu thủ khác ngay lập tức di chuyển đến vị trí có thể nhận bóng và gọi (la/hét/hát) để đồng đội biết mà chuyền đến\n"
   ]
  },
  {
   "cell_type": "markdown",
   "id": "bee66c71",
   "metadata": {},
   "source": [
    "#### Quy tắc tấn công:\n",
    "Loading"
   ]
  },
  {
   "cell_type": "markdown",
   "id": "b2032398",
   "metadata": {},
   "source": [
    "#### Tình huống GIAO BÓNG của TA:\n",
    "Chú trọng các đường chuyền đầu tiên theo các tình huống trong video chiến thuật này, phần còn lại tùy thuộc vào tình huống thực tế."
   ]
  },
  {
   "cell_type": "code",
   "execution_count": 1,
   "id": "abeaedd4",
   "metadata": {},
   "outputs": [
    {
     "data": {
      "text/html": [
       "<div align=\"center\">\n",
       "<iframe width=\"560\" height=\"315\" src=\"https://www.youtube.com/embed/pX1ySW131to\"</iframe>\n",
       "</div>\n"
      ],
      "text/plain": [
       "<IPython.core.display.HTML object>"
      ]
     },
     "metadata": {},
     "output_type": "display_data"
    }
   ],
   "source": [
    "%%HTML\n",
    "<div align=\"center\">\n",
    "<iframe width=\"560\" height=\"315\" src=\"https://www.youtube.com/embed/pX1ySW131to\"</iframe>\n",
    "</div>"
   ]
  },
  {
   "cell_type": "markdown",
   "id": "ed5ae4bf",
   "metadata": {},
   "source": [
    "#### Tình huống GIAO BÓNG của ĐỐI:\n",
    "Minh họa áp dụng các quy tắc phòng ngự khi đối thủ giao bóng"
   ]
  },
  {
   "cell_type": "code",
   "execution_count": 2,
   "id": "38882efb",
   "metadata": {},
   "outputs": [
    {
     "data": {
      "text/html": [
       "<div align=\"center\">\n",
       "<iframe width=\"560\" height=\"315\" src=\"https://www.youtube.com/embed/BvqCGRp74FM\"</iframe>\n",
       "</div>\n"
      ],
      "text/plain": [
       "<IPython.core.display.HTML object>"
      ]
     },
     "metadata": {},
     "output_type": "display_data"
    }
   ],
   "source": [
    "%%HTML\n",
    "<div align=\"center\">\n",
    "<iframe width=\"560\" height=\"315\" src=\"https://www.youtube.com/embed/BvqCGRp74FM\"</iframe>\n",
    "</div>"
   ]
  },
  {
   "cell_type": "markdown",
   "id": "2366c24e",
   "metadata": {},
   "source": [
    "#### Tình huống triển khai bóng từ thủ môn lên của TA:"
   ]
  },
  {
   "cell_type": "markdown",
   "id": "a2ff71f3",
   "metadata": {},
   "source": [
    "#### Tình huống triển khai bóng từ thủ môn lên của ĐỐI:"
   ]
  },
  {
   "cell_type": "markdown",
   "id": "e27707ce",
   "metadata": {},
   "source": [
    "#### Tình huống đá biên của TA:"
   ]
  },
  {
   "cell_type": "markdown",
   "id": "6bc8c4d9",
   "metadata": {},
   "source": [
    "#### Tình huống đá biên của ĐỐI:"
   ]
  },
  {
   "cell_type": "markdown",
   "id": "7c5c616f",
   "metadata": {},
   "source": [
    "#### Tình huống đá phạt góc của TA:"
   ]
  },
  {
   "cell_type": "markdown",
   "id": "6bce5fcf",
   "metadata": {},
   "source": [
    "#### Tình huống đá phạt góc của ĐỐI:"
   ]
  },
  {
   "cell_type": "markdown",
   "id": "879cbb25",
   "metadata": {},
   "source": [
    "#### Tình huống đá phạt trực tiếp của TA:"
   ]
  },
  {
   "cell_type": "markdown",
   "id": "1ff20883",
   "metadata": {},
   "source": [
    "#### Tình huống đá phạt trực tiếp của ĐỐI:"
   ]
  }
 ],
 "metadata": {
  "kernelspec": {
   "display_name": "Python 3 (ipykernel)",
   "language": "python",
   "name": "python3"
  },
  "language_info": {
   "codemirror_mode": {
    "name": "ipython",
    "version": 3
   },
   "file_extension": ".py",
   "mimetype": "text/x-python",
   "name": "python",
   "nbconvert_exporter": "python",
   "pygments_lexer": "ipython3",
   "version": "3.11.2"
  }
 },
 "nbformat": 4,
 "nbformat_minor": 5
}
